{
 "cells": [
  {
   "cell_type": "markdown",
   "id": "7701390d-d207-49c5-b0b5-9bfd2f181746",
   "metadata": {},
   "source": [
    "Q1. Which keyword is used to create a function? Create a function to return a list of odd numbers in the \n",
    "range of 1 to 25."
   ]
  },
  {
   "cell_type": "markdown",
   "id": "d7803385-2f25-43b8-9120-3fcec51f602d",
   "metadata": {},
   "source": [
    "solution:def keyword is used to create a function"
   ]
  },
  {
   "cell_type": "code",
   "execution_count": 6,
   "id": "2f2d2bf0-9a59-4d00-9234-af370b209d6f",
   "metadata": {},
   "outputs": [],
   "source": [
    "def oddnumbers():\n",
    "    for i in range(1,25):\n",
    "        if i%2==0:\n",
    "            continue\n",
    "        else:\n",
    "            print(i)"
   ]
  },
  {
   "cell_type": "code",
   "execution_count": 7,
   "id": "650b6ecd-f8fc-4025-93cd-f37192cc68d0",
   "metadata": {},
   "outputs": [
    {
     "name": "stdout",
     "output_type": "stream",
     "text": [
      "1\n",
      "3\n",
      "5\n",
      "7\n",
      "9\n",
      "11\n",
      "13\n",
      "15\n",
      "17\n",
      "19\n",
      "21\n",
      "23\n"
     ]
    }
   ],
   "source": [
    "oddnumbers()"
   ]
  },
  {
   "cell_type": "markdown",
   "id": "851cb1f8-1b43-49ee-a98c-18507d91d6fc",
   "metadata": {},
   "source": [
    "Q2. Why *args and **kwargs is used in some functions? Create a function each for *args and **kwargs \n",
    "to demonstrate their use."
   ]
  },
  {
   "cell_type": "markdown",
   "id": "a21351ff-8c25-46e1-afa8-b2e810f9fd65",
   "metadata": {},
   "source": [
    "Solution: When you want to return different types of data as a tuple you can pass *args as an argument inside the function. When you want to return different types of data as a dictionary(key,value pairs) you can pass **kwargs as an argument inside the function. "
   ]
  },
  {
   "cell_type": "code",
   "execution_count": 8,
   "id": "da08d3e5-6497-46c7-b043-91f781a35bff",
   "metadata": {},
   "outputs": [],
   "source": [
    "def demo1(*args):\n",
    "    return args"
   ]
  },
  {
   "cell_type": "code",
   "execution_count": 9,
   "id": "aad27b24-3990-4c32-93b9-061ef9b236d5",
   "metadata": {},
   "outputs": [
    {
     "data": {
      "text/plain": [
       "(1, 2, 3, 4, 56.78, 'aditi', [10, 20, 30])"
      ]
     },
     "execution_count": 9,
     "metadata": {},
     "output_type": "execute_result"
    }
   ],
   "source": [
    "demo1(1,2,3,4,56.78,\"aditi\",[10,20,30])"
   ]
  },
  {
   "cell_type": "code",
   "execution_count": 12,
   "id": "e1554e53-b26c-4216-9e60-4cbaa3baab3c",
   "metadata": {},
   "outputs": [],
   "source": [
    "def demo2(**kwargs):\n",
    "    return kwargs"
   ]
  },
  {
   "cell_type": "code",
   "execution_count": 13,
   "id": "ff0c30b7-6f94-41d6-948c-f63cce092c6d",
   "metadata": {},
   "outputs": [
    {
     "data": {
      "text/plain": [
       "{'a': 1, 'b': 2, 'c': 3, 'd': 4, 'e': 56.78, 'f': 'aditi', 'g': [10, 20, 30]}"
      ]
     },
     "execution_count": 13,
     "metadata": {},
     "output_type": "execute_result"
    }
   ],
   "source": [
    "demo2(a=1,b=2,c=3,d=4,e=56.78,f=\"aditi\",g=[10,20,30])"
   ]
  },
  {
   "cell_type": "markdown",
   "id": "8121aa53-9c73-47fc-aa2a-26daab338c50",
   "metadata": {},
   "source": [
    "Q3.  What is an iterator in python? Name the method used to initialise the iterator object and the method \n",
    "used for iteration. Use these methods to print the first five elements of the given list [2, 4, 6, 8, 10, 12, 14, \n",
    "16, 18, 20]."
   ]
  },
  {
   "cell_type": "markdown",
   "id": "9d1ab1ee-0a7a-4f65-8a87-bc534e04636c",
   "metadata": {},
   "source": [
    "An iterator is an object that contains a countable number of values. An iterator is an object that can be iterated upon, meaning that you can traverse through all the values. Technically, in Python, an iterator is an object which implements the iterator protocol, which consist of the methods __iter__() and __next__()"
   ]
  },
  {
   "cell_type": "code",
   "execution_count": 25,
   "id": "3f974f76-c832-4d9a-819d-4c79fbed802a",
   "metadata": {},
   "outputs": [
    {
     "name": "stdout",
     "output_type": "stream",
     "text": [
      "2\n",
      "4\n",
      "6\n",
      "8\n",
      "10\n"
     ]
    }
   ],
   "source": [
    "list = [2, 4, 6, 8, 10, 12, 14, 16, 18, 20]\n",
    "ch_iterator = iter(list)\n",
    " \n",
    "print(next(ch_iterator))\n",
    "print(next(ch_iterator))\n",
    "print(next(ch_iterator))\n",
    "print(next(ch_iterator))\n",
    "print(next(ch_iterator))"
   ]
  },
  {
   "cell_type": "markdown",
   "id": "34f40e39-ffe1-490c-beec-1e9b2f05d9cf",
   "metadata": {},
   "source": [
    "Q4.  What is a generator function in python? Why yield keyword is used? Give an example of a generator \n",
    "function."
   ]
  },
  {
   "cell_type": "markdown",
   "id": "f441867b-cbb3-4501-bcc8-2367ab412814",
   "metadata": {},
   "source": [
    "Solution: Generator function is used to save memory inside the python. Yield keyword is used to describe generator function so that no return statement is used and it automatically yields value of variable as and when required from the loop and then loop increments the next value"
   ]
  },
  {
   "cell_type": "code",
   "execution_count": 23,
   "id": "f137e387-f972-43c0-9a04-371d5e848afa",
   "metadata": {},
   "outputs": [
    {
     "name": "stdout",
     "output_type": "stream",
     "text": [
      "0\n",
      "1\n",
      "2\n"
     ]
    }
   ],
   "source": [
    "def my_generator(n):\n",
    "    value = 0\n",
    "    while value < n:\n",
    "        yield value\n",
    "        value += 1\n",
    "for value in my_generator(3):\n",
    "    print(value)"
   ]
  },
  {
   "cell_type": "markdown",
   "id": "8d152430-b86d-42b6-b03b-35e46e2a4117",
   "metadata": {},
   "source": [
    "Q5. Create a generator function for prime numbers less than 1000. Use the next() method to print the \n",
    "first 20 prime numbers."
   ]
  },
  {
   "cell_type": "code",
   "execution_count": 26,
   "id": "8beabe0d-ae15-4c55-99ed-3d5e5354f2bb",
   "metadata": {},
   "outputs": [
    {
     "name": "stdin",
     "output_type": "stream",
     "text": [
      "Enter the range:  20\n"
     ]
    },
    {
     "name": "stdout",
     "output_type": "stream",
     "text": [
      "2 3 5 7 11 13 17 19 "
     ]
    }
   ],
   "source": [
    "def Prime_seq(num):\n",
    "    for i in range(2,num):\n",
    "        if prime(i) == True:\n",
    "            print(i,end = \" \")\n",
    "        else:\n",
    "            pass\n",
    "\n",
    "num = int(input(\"Enter the range: \"))\n",
    "prime = lambda num: all( num%x != 0 for x in range(2, int(num**.5)+1) )\n",
    "Prime_seq(num)"
   ]
  },
  {
   "cell_type": "markdown",
   "id": "af6cbf92-7979-4228-a97e-4390d61175e6",
   "metadata": {},
   "source": [
    "Q6. Write a python program to print the first 10 Fibonacci numbers using a while loop."
   ]
  },
  {
   "cell_type": "code",
   "execution_count": 21,
   "id": "f495dd53-b26d-4e11-9b10-41adcaa6ff53",
   "metadata": {},
   "outputs": [],
   "source": [
    "def fib():\n",
    "    a,b=0,1\n",
    "    print(a)\n",
    "    print(b)\n",
    "    i=3\n",
    "    while(i<=10):\n",
    "        c = a + b\n",
    "        a = b\n",
    "        b = c\n",
    "        print(b)\n",
    "        i=i+1"
   ]
  },
  {
   "cell_type": "code",
   "execution_count": 22,
   "id": "d881f56d-def1-4071-98b0-6267bb9adb9b",
   "metadata": {},
   "outputs": [
    {
     "name": "stdout",
     "output_type": "stream",
     "text": [
      "0\n",
      "1\n",
      "1\n",
      "2\n",
      "3\n",
      "5\n",
      "8\n",
      "13\n",
      "21\n",
      "34\n"
     ]
    }
   ],
   "source": [
    "fib()"
   ]
  },
  {
   "cell_type": "markdown",
   "id": "dc53eec1-594f-400c-b4c9-766961fe47fc",
   "metadata": {},
   "source": [
    "Q7. Write a List Comprehension to iterate through the given string: ‘pwskills’.\n",
    "\n",
    "Expected output: ['p', 'w', 's', 'k', 'i', 'l', 'l', 's'] "
   ]
  },
  {
   "cell_type": "code",
   "execution_count": 4,
   "id": "bc2c8932-6c14-4144-8a46-4b1a9630b783",
   "metadata": {},
   "outputs": [
    {
     "name": "stdout",
     "output_type": "stream",
     "text": [
      "['p', 'w', 's', 'k', 'i', 'l', 'l', 's']\n"
     ]
    }
   ],
   "source": [
    "string=[]\n",
    "for character in 'pwskills':\n",
    "    string.append(character)\n",
    "print(string)"
   ]
  },
  {
   "cell_type": "markdown",
   "id": "90f1343f-acaf-4786-9414-1542079dcc12",
   "metadata": {},
   "source": [
    "Q8. Write a python program to check whether a given number is Palindrome or not using a while loop."
   ]
  },
  {
   "cell_type": "code",
   "execution_count": 38,
   "id": "8eb5d97d-c868-4b8d-8a83-bb433e62bda3",
   "metadata": {},
   "outputs": [
    {
     "name": "stdout",
     "output_type": "stream",
     "text": [
      "number is a palindrome\n"
     ]
    }
   ],
   "source": [
    "def palindrom(num):\n",
    "    reverse=0\n",
    "    while(num>=1):\n",
    "        reminder=int(num%10)\n",
    "        reverse=int(reminder+reverse*10)\n",
    "        num=int(num/10)\n",
    "    return reverse\n",
    "\n",
    "num=999\n",
    "r=palindrom(num)\n",
    "if(num==r):\n",
    "    print(\"number is a palindrome\")\n",
    "else:\n",
    "    print(\"number is not a palindrome\")\n",
    "    "
   ]
  },
  {
   "cell_type": "markdown",
   "id": "e7b4e44b-e101-46cb-a944-5d395e9655a4",
   "metadata": {},
   "source": [
    "Q9. Write a code to print odd numbers from 1 to 100 using list comprehension."
   ]
  },
  {
   "cell_type": "code",
   "execution_count": 1,
   "id": "7eb43587-2dc4-4f8a-840f-49a847b06a43",
   "metadata": {},
   "outputs": [
    {
     "name": "stdout",
     "output_type": "stream",
     "text": [
      "[1, 3, 5, 7, 9, 11, 13, 15, 17, 19, 21, 23, 25, 27, 29, 31, 33, 35, 37, 39, 41, 43, 45, 47, 49, 51, 53, 55, 57, 59, 61, 63, 65, 67, 69, 71, 73, 75, 77, 79, 81, 83, 85, 87, 89, 91, 93, 95, 97, 99]\n"
     ]
    }
   ],
   "source": [
    "odd_list = [element for element in range(1, 101) if element % 2 == 1 ]\n",
    "print(odd_list)"
   ]
  }
 ],
 "metadata": {
  "kernelspec": {
   "display_name": "Python 3 (ipykernel)",
   "language": "python",
   "name": "python3"
  },
  "language_info": {
   "codemirror_mode": {
    "name": "ipython",
    "version": 3
   },
   "file_extension": ".py",
   "mimetype": "text/x-python",
   "name": "python",
   "nbconvert_exporter": "python",
   "pygments_lexer": "ipython3",
   "version": "3.10.8"
  }
 },
 "nbformat": 4,
 "nbformat_minor": 5
}
