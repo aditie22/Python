{
 "cells": [
  {
   "cell_type": "markdown",
   "id": "e334d4a2-4551-48bc-8726-818170f2bf9d",
   "metadata": {},
   "source": [
    "Q1. How do you comment code in Python? What are the different types of comments?"
   ]
  },
  {
   "cell_type": "markdown",
   "id": "2be0fa90-1ac8-4d8d-8443-dcf5524bdc18",
   "metadata": {},
   "source": [
    "Solution: There is only 1 way to comment code in python that is #\n",
    "Example: #my name is pwskills \n",
    "Above line is a comment that means it will not affect the code if it is inside our code"
   ]
  },
  {
   "cell_type": "markdown",
   "id": "2e48e6c7-14e0-4e5d-bb9b-08f7cf33ba4d",
   "metadata": {},
   "source": [
    "Q2. What are variables in Python? How do you declare and assign values to variables?"
   ]
  },
  {
   "cell_type": "markdown",
   "id": "3a0b5e55-bbe4-4375-9fc1-7a94552509ba",
   "metadata": {},
   "source": [
    "Solution: Variables are containers which stores the values inside it for computation purpose.\n",
    "Unlike other programming languages we dont have to declare variables before using it in python. We can directly assign values to it."
   ]
  },
  {
   "cell_type": "code",
   "execution_count": 1,
   "id": "05e33737-2811-4b8b-9307-2c8bb312c8f3",
   "metadata": {},
   "outputs": [
    {
     "name": "stdout",
     "output_type": "stream",
     "text": [
      "5\n"
     ]
    }
   ],
   "source": [
    "#variable declaration and assignment\n",
    "#in below code a,b,c are variables\n",
    "a=2\n",
    "b=3\n",
    "c=a+b\n",
    "print(c)"
   ]
  },
  {
   "cell_type": "markdown",
   "id": "46153156-42dd-44c4-8adc-be096c8a1bd7",
   "metadata": {},
   "source": [
    "Q3.  How do you convert one data type to another in Python?"
   ]
  },
  {
   "cell_type": "code",
   "execution_count": 24,
   "id": "153b2a1f-d3b5-4a4b-862a-27a8528b0ea1",
   "metadata": {},
   "outputs": [
    {
     "data": {
      "text/plain": [
       "2"
      ]
     },
     "execution_count": 24,
     "metadata": {},
     "output_type": "execute_result"
    }
   ],
   "source": [
    "#to convert 1 data type to another it is called as typecasting\n",
    "#in below code 2.22 is float number and is converted to int\n",
    "p=int(2.22)\n",
    "p"
   ]
  },
  {
   "cell_type": "code",
   "execution_count": 26,
   "id": "4b746d76-9367-4535-bf9f-194d3ef4bb44",
   "metadata": {},
   "outputs": [
    {
     "name": "stdin",
     "output_type": "stream",
     "text": [
      "Enter the number 2\n"
     ]
    },
    {
     "name": "stdout",
     "output_type": "stream",
     "text": [
      "2\n"
     ]
    }
   ],
   "source": [
    "#you can also convert 1 datatype to another using user input\n",
    "p=int(input(\"Enter the number\"))\n",
    "print(p)"
   ]
  },
  {
   "cell_type": "markdown",
   "id": "71ba1e18-d094-444a-bf8b-21b140577a14",
   "metadata": {},
   "source": [
    "Q4. How do you write and execute a Python script from the command line?"
   ]
  },
  {
   "cell_type": "markdown",
   "id": "49f8bc1d-dfc2-4221-ad98-1679b530e8fd",
   "metadata": {},
   "source": [
    "solution:open a command line and type the word python followed by the path to your script file like this: python first_script.py Hello World! Then you hit the ENTER button from the keyboard"
   ]
  },
  {
   "cell_type": "markdown",
   "id": "f4fee226-083f-4bf5-aaaa-ba614cbaa7e2",
   "metadata": {},
   "source": [
    "Q5. Given a list my_list = [1, 2, 3, 4, 5], write the code to slice the list and obtain the sub-list [2, 3]"
   ]
  },
  {
   "cell_type": "code",
   "execution_count": 3,
   "id": "d0daafd5-3783-42a4-a694-22d8c1fefeb4",
   "metadata": {},
   "outputs": [
    {
     "data": {
      "text/plain": [
       "[1, 2, 3, 4, 5]"
      ]
     },
     "execution_count": 3,
     "metadata": {},
     "output_type": "execute_result"
    }
   ],
   "source": [
    "my_list=[1,2,3,4,5]\n",
    "my_list"
   ]
  },
  {
   "cell_type": "code",
   "execution_count": 5,
   "id": "3c84111e-579d-4fad-bc89-e52c7a245819",
   "metadata": {},
   "outputs": [
    {
     "data": {
      "text/plain": [
       "[2, 3]"
      ]
     },
     "execution_count": 5,
     "metadata": {},
     "output_type": "execute_result"
    }
   ],
   "source": [
    "my_list[1:3]"
   ]
  },
  {
   "cell_type": "markdown",
   "id": "7684124d-ceaa-4d51-a35e-c1fefbc63832",
   "metadata": {},
   "source": [
    "Q6. What is a complex number in mathematics, and how is it represented in Python?"
   ]
  },
  {
   "cell_type": "code",
   "execution_count": 6,
   "id": "5aeb3872-d753-4c02-82da-b2205e6025db",
   "metadata": {},
   "outputs": [
    {
     "name": "stdout",
     "output_type": "stream",
     "text": [
      "(1+2j)\n"
     ]
    }
   ],
   "source": [
    "# Complex numbers has 2 parts real and imaginary\n",
    "#Example: 1+2j where 1 is real number and 2j is imaginary number both combined are known as complex number\n",
    "e=1+2j\n",
    "print(e)"
   ]
  },
  {
   "cell_type": "code",
   "execution_count": 7,
   "id": "98fb4bdd-508c-4103-96d8-bf828f27ebb1",
   "metadata": {},
   "outputs": [
    {
     "data": {
      "text/plain": [
       "2.0"
      ]
     },
     "execution_count": 7,
     "metadata": {},
     "output_type": "execute_result"
    }
   ],
   "source": [
    "e.imag"
   ]
  },
  {
   "cell_type": "code",
   "execution_count": 8,
   "id": "343fac2c-088d-4c17-9b44-58ea4890d920",
   "metadata": {},
   "outputs": [
    {
     "data": {
      "text/plain": [
       "1.0"
      ]
     },
     "execution_count": 8,
     "metadata": {},
     "output_type": "execute_result"
    }
   ],
   "source": [
    "e.real"
   ]
  },
  {
   "cell_type": "markdown",
   "id": "968e86f4-f6fa-49d9-b34d-94c28ec120ca",
   "metadata": {},
   "source": [
    "Q7.  What is the correct way to declare a variable named age and assign the value 25 to it?"
   ]
  },
  {
   "cell_type": "code",
   "execution_count": 9,
   "id": "4edab4bf-7347-4b73-ab32-1ae70b84c11f",
   "metadata": {},
   "outputs": [
    {
     "name": "stdout",
     "output_type": "stream",
     "text": [
      "25\n"
     ]
    }
   ],
   "source": [
    "#age=25 is an integer variable\n",
    "age=25\n",
    "print(age)"
   ]
  },
  {
   "cell_type": "code",
   "execution_count": 10,
   "id": "6368aba0-d371-4a38-bf48-9f85c801c3e2",
   "metadata": {},
   "outputs": [
    {
     "name": "stdin",
     "output_type": "stream",
     "text": [
      "Enter the age: 25\n"
     ]
    },
    {
     "name": "stdout",
     "output_type": "stream",
     "text": [
      "25\n"
     ]
    }
   ],
   "source": [
    "# you can also declare variable named age by giving user input\n",
    "age=int(input(\"Enter the age:\"))\n",
    "print(age)"
   ]
  },
  {
   "cell_type": "markdown",
   "id": "9dd59c39-69bc-44ea-9a12-9f2510de36d4",
   "metadata": {},
   "source": [
    "Q8. Declare a variable named price and assign the value 9.99 to it. What data type does this variable \n",
    "belong to?"
   ]
  },
  {
   "cell_type": "code",
   "execution_count": 11,
   "id": "c344e312-4295-4b02-a83d-f2478965af47",
   "metadata": {},
   "outputs": [
    {
     "name": "stdout",
     "output_type": "stream",
     "text": [
      "9.99\n"
     ]
    }
   ],
   "source": [
    "#age=9.99 is an float variable\n",
    "price=9.99\n",
    "print(price)"
   ]
  },
  {
   "cell_type": "code",
   "execution_count": 12,
   "id": "221860df-19b4-4ebf-846c-6d6a762d7146",
   "metadata": {},
   "outputs": [
    {
     "name": "stdin",
     "output_type": "stream",
     "text": [
      "Enter the price: 9.99\n"
     ]
    },
    {
     "name": "stdout",
     "output_type": "stream",
     "text": [
      "9.99\n"
     ]
    }
   ],
   "source": [
    "# you can also declare variable named price by giving user input\n",
    "price=float(input(\"Enter the price:\"))\n",
    "print(price)"
   ]
  },
  {
   "cell_type": "markdown",
   "id": "39f5dd7d-500a-4d98-8e6c-546a150682e6",
   "metadata": {},
   "source": [
    "Q9. Create a variable named name and assign your full name to it as a string. How would you print the \n",
    "value of this variable?"
   ]
  },
  {
   "cell_type": "code",
   "execution_count": 13,
   "id": "2a5d0b31-5d24-4bdf-a44c-13acaf58a46e",
   "metadata": {},
   "outputs": [
    {
     "name": "stdout",
     "output_type": "stream",
     "text": [
      "Aditi Shetkar\n"
     ]
    }
   ],
   "source": [
    "name=\"Aditi Shetkar\"\n",
    "print(name)"
   ]
  },
  {
   "cell_type": "code",
   "execution_count": 14,
   "id": "0c5b3721-fa3f-44c0-9ddc-cf37e7a98acc",
   "metadata": {},
   "outputs": [
    {
     "name": "stdin",
     "output_type": "stream",
     "text": [
      "Enter your name: Aditi Shetkar\n"
     ]
    },
    {
     "name": "stdout",
     "output_type": "stream",
     "text": [
      "Aditi Shetkar\n"
     ]
    }
   ],
   "source": [
    "# you can also declare variable named name by giving user input\n",
    "name=(input(\"Enter your name:\"))\n",
    "print(name)"
   ]
  },
  {
   "cell_type": "markdown",
   "id": "5d16ef68-6b31-4709-97b4-26f4e0d91cd5",
   "metadata": {},
   "source": [
    "Q10. Given the string \"Hello, World!\", extract the substring \"World\"."
   ]
  },
  {
   "cell_type": "code",
   "execution_count": 19,
   "id": "88c2527a-5db0-448d-849e-deb76781090d",
   "metadata": {},
   "outputs": [
    {
     "name": "stdout",
     "output_type": "stream",
     "text": [
      "World\n"
     ]
    }
   ],
   "source": [
    "str=\"Hello, World!\"\n",
    "print(str[7:12])"
   ]
  },
  {
   "cell_type": "markdown",
   "id": "d962a9d7-74ca-4073-9b0b-835d0c2beb1f",
   "metadata": {},
   "source": [
    "Q11. Create a variable named \"is_student\" and assign it a boolean value indicating whether you are \n",
    "currently a student or not."
   ]
  },
  {
   "cell_type": "code",
   "execution_count": 21,
   "id": "aed834d6-446c-48a0-9b19-f43a9ea05c33",
   "metadata": {},
   "outputs": [
    {
     "name": "stdout",
     "output_type": "stream",
     "text": [
      "true\n"
     ]
    }
   ],
   "source": [
    "is_student='true'\n",
    "print(is_student)"
   ]
  },
  {
   "cell_type": "code",
   "execution_count": 22,
   "id": "e4e3eff0-103c-4ce1-b8fe-330bf6733388",
   "metadata": {},
   "outputs": [
    {
     "name": "stdin",
     "output_type": "stream",
     "text": [
      "enter whether you are student or not true\n"
     ]
    },
    {
     "name": "stdout",
     "output_type": "stream",
     "text": [
      "True\n"
     ]
    }
   ],
   "source": [
    "is_student=bool(input(\"enter whether you are student or not\"))\n",
    "print(is_student)"
   ]
  }
 ],
 "metadata": {
  "kernelspec": {
   "display_name": "Python 3 (ipykernel)",
   "language": "python",
   "name": "python3"
  },
  "language_info": {
   "codemirror_mode": {
    "name": "ipython",
    "version": 3
   },
   "file_extension": ".py",
   "mimetype": "text/x-python",
   "name": "python",
   "nbconvert_exporter": "python",
   "pygments_lexer": "ipython3",
   "version": "3.10.8"
  }
 },
 "nbformat": 4,
 "nbformat_minor": 5
}
