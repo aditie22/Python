{
 "cells": [
  {
   "cell_type": "markdown",
   "id": "675c932b-a966-47dc-ab68-9187c5ddadb1",
   "metadata": {},
   "source": [
    "Q1. Create one variable containing following type of data:\n",
    "\n",
    "(i)\tstring\n",
    "\n",
    "(ii)\tlist\n",
    "\n",
    "(iii)\tfloat\n",
    "\n",
    "(iv)\ttuple"
   ]
  },
  {
   "cell_type": "code",
   "execution_count": 1,
   "id": "6d30e2b5-b024-4e94-b845-e6f9d49456c9",
   "metadata": {},
   "outputs": [
    {
     "data": {
      "text/plain": [
       "'elin'"
      ]
     },
     "execution_count": 1,
     "metadata": {},
     "output_type": "execute_result"
    }
   ],
   "source": [
    "a=\"elin\"\n",
    "a"
   ]
  },
  {
   "cell_type": "code",
   "execution_count": 2,
   "id": "3071e151-9dea-4c5e-94c6-3908f8aec6fc",
   "metadata": {},
   "outputs": [
    {
     "data": {
      "text/plain": [
       "[1, 2, 3, 4, 'sudh', 20.5, 345.67]"
      ]
     },
     "execution_count": 2,
     "metadata": {},
     "output_type": "execute_result"
    }
   ],
   "source": [
    "l=[1,2,3,4,\"sudh\",20.5,345.67]\n",
    "l"
   ]
  },
  {
   "cell_type": "code",
   "execution_count": 3,
   "id": "d08d8579-6aa6-484a-916d-4f15acca9054",
   "metadata": {},
   "outputs": [
    {
     "data": {
      "text/plain": [
       "20.5"
      ]
     },
     "execution_count": 3,
     "metadata": {},
     "output_type": "execute_result"
    }
   ],
   "source": [
    "f=20.5\n",
    "f"
   ]
  },
  {
   "cell_type": "code",
   "execution_count": 4,
   "id": "4dba6b30-3fc4-4839-9861-3c58dfe5e394",
   "metadata": {},
   "outputs": [
    {
     "data": {
      "text/plain": [
       "(1, 2, 3, 4, 'niti', 'k', 45.6)"
      ]
     },
     "execution_count": 4,
     "metadata": {},
     "output_type": "execute_result"
    }
   ],
   "source": [
    "t=(1,2,3,4,\"niti\",\"k\",45.6)\n",
    "t"
   ]
  },
  {
   "cell_type": "markdown",
   "id": "2eccca3e-4b4a-4ede-9d54-73fd4d408132",
   "metadata": {},
   "source": [
    "Q2. Given are some following variables containing data:\n",
    "(i) var1 = ‘ ‘\n",
    "(ii) var2 = ‘[ DS , ML , Python]’\n",
    "(iii) var3 = [ ‘DS’ , ’ML’ , ‘Python’ ]\n",
    "(iv) var4 = 1.\n",
    "What will be the data type of the above given variable."
   ]
  },
  {
   "cell_type": "code",
   "execution_count": 5,
   "id": "f961977c-350a-40ec-b8a4-4b4f3aeeccdc",
   "metadata": {},
   "outputs": [
    {
     "data": {
      "text/plain": [
       "str"
      ]
     },
     "execution_count": 5,
     "metadata": {},
     "output_type": "execute_result"
    }
   ],
   "source": [
    "var1=''\n",
    "type(var1)"
   ]
  },
  {
   "cell_type": "code",
   "execution_count": 6,
   "id": "c4d9ad35-ce07-4e08-89a1-600ba8a310f3",
   "metadata": {},
   "outputs": [
    {
     "data": {
      "text/plain": [
       "'[ DS , ML , Python]'"
      ]
     },
     "execution_count": 6,
     "metadata": {},
     "output_type": "execute_result"
    }
   ],
   "source": [
    "var2='[ DS , ML , Python]'\n",
    "var2"
   ]
  },
  {
   "cell_type": "code",
   "execution_count": 7,
   "id": "afd51222-2683-407e-94fd-1f2cfd77e7f9",
   "metadata": {},
   "outputs": [
    {
     "data": {
      "text/plain": [
       "str"
      ]
     },
     "execution_count": 7,
     "metadata": {},
     "output_type": "execute_result"
    }
   ],
   "source": [
    "type(var2)"
   ]
  },
  {
   "cell_type": "code",
   "execution_count": 9,
   "id": "35ab8aed-5831-4900-bc7f-98e2b8a13ce1",
   "metadata": {},
   "outputs": [
    {
     "data": {
      "text/plain": [
       "list"
      ]
     },
     "execution_count": 9,
     "metadata": {},
     "output_type": "execute_result"
    }
   ],
   "source": [
    "var3 = [ 'DS' , 'ML' , 'Python' ]\n",
    "var3\n",
    "type(var3)"
   ]
  },
  {
   "cell_type": "code",
   "execution_count": 10,
   "id": "9f1eeee9-c2da-4d43-977b-fbe9a5a3c32d",
   "metadata": {},
   "outputs": [
    {
     "data": {
      "text/plain": [
       "int"
      ]
     },
     "execution_count": 10,
     "metadata": {},
     "output_type": "execute_result"
    }
   ],
   "source": [
    "var4=1\n",
    "var4\n",
    "type(var4)"
   ]
  },
  {
   "cell_type": "markdown",
   "id": "a872fda7-5bce-4ae4-8f1d-c77b3473fdf6",
   "metadata": {},
   "source": [
    "Q3. Explain the use of the following operators using an example:\n",
    "(i) /\n",
    "(ii) %\n",
    "(iii) //\n",
    "(iv) **"
   ]
  },
  {
   "cell_type": "code",
   "execution_count": 11,
   "id": "69899c8f-7c10-4536-817c-5778c63c0127",
   "metadata": {},
   "outputs": [
    {
     "name": "stdout",
     "output_type": "stream",
     "text": [
      "2.0\n"
     ]
    }
   ],
   "source": [
    "# (i) / (division operator) is an arithmetic operator\n",
    "a=4\n",
    "b=2\n",
    "c=4/2\n",
    "print(c)"
   ]
  },
  {
   "cell_type": "code",
   "execution_count": 12,
   "id": "66f8ca07-ff63-4ada-b283-1961e5ea16fa",
   "metadata": {},
   "outputs": [
    {
     "name": "stdout",
     "output_type": "stream",
     "text": [
      "0\n"
     ]
    }
   ],
   "source": [
    "# (i) % (modulo operator) is an arithmetic operator\n",
    "a=4\n",
    "b=2\n",
    "c=4%2\n",
    "print(c)"
   ]
  },
  {
   "cell_type": "code",
   "execution_count": 13,
   "id": "dc67ebd7-1fc1-4aa1-b317-a8c29597ea1e",
   "metadata": {},
   "outputs": [
    {
     "name": "stdout",
     "output_type": "stream",
     "text": [
      "1\n"
     ]
    }
   ],
   "source": [
    "# (i) // (floor operator) is an arithmetic operator\n",
    "a=6\n",
    "b=4\n",
    "c=6//4\n",
    "print(c)"
   ]
  },
  {
   "cell_type": "code",
   "execution_count": 14,
   "id": "2ab24e21-7c64-41fb-8b4d-48bf3b38a8d0",
   "metadata": {},
   "outputs": [
    {
     "name": "stdout",
     "output_type": "stream",
     "text": [
      "16\n"
     ]
    }
   ],
   "source": [
    "# (i) ** (power or exponential operator) is an arithmetic operator\n",
    "a=4\n",
    "b=2\n",
    "c=4**2\n",
    "print(c)"
   ]
  },
  {
   "cell_type": "markdown",
   "id": "3d4c9c50-31e1-427b-a4d4-43e092593c3c",
   "metadata": {},
   "source": [
    "Q4. Create a list of length 10 of your choice containing multiple types of data. Using for loop print the\n",
    "element and its data type."
   ]
  },
  {
   "cell_type": "code",
   "execution_count": 15,
   "id": "bb38a2be-7d1c-4e08-a144-47a537313df7",
   "metadata": {},
   "outputs": [
    {
     "data": {
      "text/plain": [
       "[1, 2, 3, 4, 'adi', 'z', 30.6, 24.5, 2345.6789, 100]"
      ]
     },
     "execution_count": 15,
     "metadata": {},
     "output_type": "execute_result"
    }
   ],
   "source": [
    "l=[1,2,3,4,\"adi\",\"z\",30.6,24.5,2345.6789,100]\n",
    "l"
   ]
  },
  {
   "cell_type": "code",
   "execution_count": 17,
   "id": "d4b8c9e1-9a48-4c0e-9a6e-160460771423",
   "metadata": {},
   "outputs": [
    {
     "name": "stdout",
     "output_type": "stream",
     "text": [
      "1\n",
      "<class 'int'>\n",
      "2\n",
      "<class 'int'>\n",
      "3\n",
      "<class 'int'>\n",
      "4\n",
      "<class 'int'>\n",
      "adi\n",
      "<class 'str'>\n",
      "z\n",
      "<class 'str'>\n",
      "30.6\n",
      "<class 'float'>\n",
      "24.5\n",
      "<class 'float'>\n",
      "2345.6789\n",
      "<class 'float'>\n",
      "100\n",
      "<class 'int'>\n"
     ]
    }
   ],
   "source": [
    "for i in l:\n",
    "    print(i)\n",
    "    print(type(i))"
   ]
  },
  {
   "cell_type": "markdown",
   "id": "0fd18e4b-e04c-40bc-b208-2a95c9750d19",
   "metadata": {},
   "source": [
    "Q5. Using a while loop, verify if the number A is purely divisible by number B and if so then how many\n",
    "times it can be divisible."
   ]
  },
  {
   "cell_type": "code",
   "execution_count": 3,
   "id": "f677b61e-02b7-4ca3-b69a-72f8c9ed3f00",
   "metadata": {},
   "outputs": [
    {
     "name": "stdin",
     "output_type": "stream",
     "text": [
      "enter number A: 40\n",
      "enter number B: 2\n"
     ]
    },
    {
     "name": "stdout",
     "output_type": "stream",
     "text": [
      "number is purely divisible for: 3 times\n"
     ]
    }
   ],
   "source": [
    "a=int(input(\"enter number A:\"))\n",
    "b=int(input(\"enter number B:\"))\n",
    "i=0\n",
    "while(a%b==0):\n",
    "    a=a/b\n",
    "    i=i+1\n",
    "print(\"number is purely divisible for:\",i,\"times\") "
   ]
  },
  {
   "cell_type": "markdown",
   "id": "5285a156-ab59-424b-8be0-eb3f58dddbfd",
   "metadata": {},
   "source": [
    "Q6. Create a list containing 25 int type data. Using for loop and if-else condition print if the element is\n",
    "divisible by 3 or not."
   ]
  },
  {
   "cell_type": "code",
   "execution_count": 4,
   "id": "e9811163-a956-4415-ac92-8205e6e2a24a",
   "metadata": {},
   "outputs": [
    {
     "name": "stdout",
     "output_type": "stream",
     "text": [
      "1 not divisible by 3\n",
      "2 not divisible by 3\n",
      "3 is divisble by 3\n",
      "4 not divisible by 3\n",
      "5 not divisible by 3\n",
      "6 is divisble by 3\n",
      "7 not divisible by 3\n",
      "8 not divisible by 3\n",
      "9 is divisble by 3\n",
      "10 not divisible by 3\n",
      "11 not divisible by 3\n",
      "12 is divisble by 3\n",
      "13 not divisible by 3\n",
      "14 not divisible by 3\n",
      "15 is divisble by 3\n",
      "16 not divisible by 3\n",
      "17 not divisible by 3\n",
      "18 is divisble by 3\n",
      "19 not divisible by 3\n",
      "20 not divisible by 3\n",
      "21 is divisble by 3\n",
      "22 not divisible by 3\n",
      "23 not divisible by 3\n",
      "24 is divisble by 3\n",
      "25 not divisible by 3\n"
     ]
    }
   ],
   "source": [
    "li=[1,2,3,4,5,6,7,8,9,10,11,12,13,14,15,16,17,18,19,20,21,22,23,24,25]\n",
    "for i in li:\n",
    "    if((i%3)==0):\n",
    "        print(i,\"is divisble by 3\")\n",
    "    else:\n",
    "        print(i,\"not divisible by 3\")"
   ]
  },
  {
   "cell_type": "markdown",
   "id": "944fce20-626e-47b1-9256-4d593592dbee",
   "metadata": {},
   "source": [
    "Q7. What do you understand about mutable and immutable data types? Give examples for both showing\n",
    "this property."
   ]
  },
  {
   "cell_type": "code",
   "execution_count": 5,
   "id": "d640dafd-d0be-4bed-8293-0cd9ab342aed",
   "metadata": {},
   "outputs": [],
   "source": [
    "#list are mutable data types as you can assign new data,modify existing data or delete old data\n",
    "#strings are not mutable data type as you cannot assign new data,modify existing data or delete old data\n",
    "li=[1,2,3,4,5,6,7,8,9,10,11,12,13,14,15,16,17,18,19,20,21,22,23,24,25]\n",
    "li[1]\n",
    "li[1]=20\n"
   ]
  },
  {
   "cell_type": "code",
   "execution_count": null,
   "id": "f97a935c-3643-419f-847e-5944f1953f08",
   "metadata": {},
   "outputs": [],
   "source": []
  }
 ],
 "metadata": {
  "kernelspec": {
   "display_name": "Python 3 (ipykernel)",
   "language": "python",
   "name": "python3"
  },
  "language_info": {
   "codemirror_mode": {
    "name": "ipython",
    "version": 3
   },
   "file_extension": ".py",
   "mimetype": "text/x-python",
   "name": "python",
   "nbconvert_exporter": "python",
   "pygments_lexer": "ipython3",
   "version": "3.10.8"
  }
 },
 "nbformat": 4,
 "nbformat_minor": 5
}
